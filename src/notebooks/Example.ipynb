{
 "cells": [
  {
   "cell_type": "code",
   "execution_count": null,
   "id": "a654e567-79eb-4256-9252-aaf8bb036f47",
   "metadata": {},
   "outputs": [],
   "source": [
    "print(\"Hello World, Jupyter Notebooks!\")"
   ]
  }
 ],
 "metadata": {
  "kernelspec": {
   "display_name": "Python 3 (ipykernel)",
   "language": "python",
   "name": "python3"
  },
  "language_info": {
   "codemirror_mode": {
    "name": "ipython",
    "version": 3
   },
   "file_extension": ".py",
   "mimetype": "text/x-python",
   "name": "python",
   "nbconvert_exporter": "python",
   "pygments_lexer": "ipython3",
   "version": "3.9.13"
  }
 },
 "nbformat": 4,
 "nbformat_minor": 5
}
